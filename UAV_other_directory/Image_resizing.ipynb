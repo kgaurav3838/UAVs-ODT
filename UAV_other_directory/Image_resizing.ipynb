{
 "cells": [
  {
   "cell_type": "markdown",
   "metadata": {},
   "source": [
    "# Image Dimension and Shape\n",
    "Image Dimension = (Width x Height) or (Horizontal x Vertical) or (fx,fy) or (X x Y) or (Columns x Rows) in pixels.\n",
    "\n",
    "Image shape = (Height x Width x Channels) or (Y, X, Z) or (rows,columns)---cv2.imread(\"image.jpg\").shape  in Python\n",
    "\n",
    "Image size determines an image’s actual width and height in pixels. Image size is the dimensions of an image.\n",
    "Don’t confuse image size with image file size. Image file size is measured in bytes according to how much space it takes up on a disk or drive (think kilobytes or megabytes).\n",
    "\n",
    "Pixels are linked to the length unit. Suppose we can have 96 pixels per inch(or 2.54cm) called as 96dpi.\n",
    "# Read an Image in OpenCV\n",
    "image = cv2.imread(filename, flags=cv2.IMREAD_COLOR).\n",
    "\n",
    "The flags option is used to control how the image is read.\n",
    "If flags=NULL means read as 8-bit / channel Color Image ( without Alpha Channel).\n",
    "\n",
    "If flags= cv2.IMREAD_GRAYSCALE means read as 8-bit Grayscale Image.\n",
    "\n",
    "If flags= cv2.IMREAD_UNCHANGED means read 16-bit / channel Color PNG/TIFF Image\n",
    "\n"
   ]
  },
  {
   "cell_type": "code",
   "execution_count": 7,
   "metadata": {},
   "outputs": [
    {
     "name": "stdout",
     "output_type": "stream",
     "text": [
      "Dimension (img.shape)= (480, 320, 3)\n",
      "Height=480, Width=320, Channels=3\n",
      "Image size=460800 and Image data type=uint8\n"
     ]
    }
   ],
   "source": [
    "# Image shape [height,width,channels] or [rows,columns,channels]\n",
    "import cv2\n",
    "img = cv2.imread('images/left1.jpg', cv2.IMREAD_UNCHANGED)  # read image\n",
    "# get dimensions of image\n",
    "dimensions = img.shape # height, width, number of channels in image\n",
    "print('Dimension (img.shape)=',img.shape)  # (Height , Width , Channels) \n",
    "print('Height=%d, Width=%d, Channels=%d' % (img.shape[0],img.shape[1],img.shape[2]))\n",
    "# Total number of pixels is accessed by img.size and Image datatype is obtained by img.dtype:\n",
    "print('Image size=%d and Image data type=%s' %(image1.size,image1.dtype))\n"
   ]
  },
  {
   "cell_type": "markdown",
   "metadata": {},
   "source": [
    "# Image resizing using cv2.resize\n",
    "Format = cv2.resize(input_image, d_size, interpolation)\n",
    "where, d_size = destination size i.e. (width, height); Interpolation = Types of operation when resizing input image.\n",
    "# Interpolation method:-\n",
    "INTER_NEAREST - a nearest-neighbor interpolation. \n",
    "\n",
    "INTER_LINEAR - a bilinear interpolation (used by default).\n",
    "\n",
    "INTER_AREA - resampling using pixel area relation. It may be a preferred method for image decimation, as it gives\n",
    "moire’-free results. But when the image is zoomed, it is similar to the INTER_NEAREST method.\n",
    "\n",
    "INTER_CUBIC - a bicubic interpolation over 4x4 pixel neighborhood.\n",
    "\n",
    "INTER_LANCZOS4 - a Lanczos interpolation over 8x8 pixel neighborhood.\n",
    "\n",
    "To shrink an image, it will generally look best with cv2.INTER_AREA interpolation, whereas to enlarge an image, it will generally look best with cv2.INTER_CUBIC (slow) or cv2.INTER_LINEAR (faster but still looks OK).\n",
    "\n",
    "// explicitly specify dsize=dst.size(); fx and fy will be computed from that. \n",
    "resize(src, dst, dst.size(), 0, 0, interpolation);"
   ]
  },
  {
   "cell_type": "code",
   "execution_count": 109,
   "metadata": {},
   "outputs": [],
   "source": [
    "# Image resizing using cv2.resize\n",
    "import cv2\n",
    "#Read the images from your directory\n",
    "image1=cv2.imread('images/left1.jpg',cv2.IMREAD_COLOR)  # Left Image\n",
    "scale_percent = 80  # percent of original size\n",
    "width = int(image1.shape[1] * scale_percent / 100)  #image1.shape return (width x height x channel) or (row x column x channel)\n",
    "height = int(image1.shape[0]* scale_percent / 100)\n",
    "dim = (width, height)\n",
    "image2=cv2.resize(image, dim, interpolation = cv2.INTER_AREA)   #ReSize image\n",
    "cv2.imshow(\"Original_image\",image)\n",
    "cv2.imshow(\"Resized_image\",image2)\n",
    "cv2.waitKey()\n",
    "cv2.destroyAllWindows()"
   ]
  },
  {
   "cell_type": "code",
   "execution_count": 1,
   "metadata": {},
   "outputs": [
    {
     "data": {
      "text/plain": [
       "(480, 320, 3)"
      ]
     },
     "execution_count": 1,
     "metadata": {},
     "output_type": "execute_result"
    }
   ],
   "source": [
    "import cv2\n",
    "#Read the images from your directory\n",
    "image1=cv2.imread('images/left1.jpg',cv2.IMREAD_COLOR)  # Left Image\n",
    "image1.shape  # (Height, Width, Channels)"
   ]
  },
  {
   "cell_type": "code",
   "execution_count": 108,
   "metadata": {},
   "outputs": [
    {
     "name": "stdout",
     "output_type": "stream",
     "text": [
      "uint8 (280, 450, 3)\n",
      "uint8 (51, 50, 3)\n"
     ]
    }
   ],
   "source": [
    "# Ex: Copy a selected region from an image and paste into the same image at different position\n",
    "import numpy as np\n",
    "imgg=cv2.imread('images/imageball.jpg')\n",
    "imgg1=imgg\n",
    "imgg1=np.array(imgg1)\n",
    "ball=np.array(ball)\n",
    "ball = imgg1[221:272, 81:131]  # (Height, Width)\n",
    "print(imgg1.dtype,imgg1.shape)  # uint8 (280, 450, 3)\n",
    "print(ball.dtype,ball.shape)  # uint8 (51, 50, 3)\n",
    "imgg1[221:272, 15:65] = ball  # This size [221:272, 15:65] should same as the size of the ball \n",
    "cv2.imshow(\"imgage\",imgg1)\n",
    "cv2.waitKey()\n",
    "cv2.destroyAllWindows()"
   ]
  },
  {
   "cell_type": "code",
   "execution_count": 28,
   "metadata": {},
   "outputs": [
    {
     "name": "stdout",
     "output_type": "stream",
     "text": [
      "Row= 480\n",
      "Column= 320\n"
     ]
    }
   ],
   "source": [
    "print(\"Row=\",image1.shape[0])  # access row\n",
    "print(\"Column=\",image1.shape[1]) # access column"
   ]
  },
  {
   "cell_type": "code",
   "execution_count": null,
   "metadata": {},
   "outputs": [],
   "source": []
  }
 ],
 "metadata": {
  "kernelspec": {
   "display_name": "Python 3",
   "language": "python",
   "name": "python3"
  },
  "language_info": {
   "codemirror_mode": {
    "name": "ipython",
    "version": 3
   },
   "file_extension": ".py",
   "mimetype": "text/x-python",
   "name": "python",
   "nbconvert_exporter": "python",
   "pygments_lexer": "ipython3",
   "version": "3.7.5"
  }
 },
 "nbformat": 4,
 "nbformat_minor": 2
}
