{
 "cells": [
  {
   "cell_type": "markdown",
   "metadata": {
    "colab_type": "text",
    "id": "3deYTsOujB2E"
   },
   "source": [
    "<table class=\"tfo-notebook-buttons\" align=\"left\">\n",
    "  <td>\n",
    "    <a target=\"_blank\" href=\"https://colab.research.google.com/github/bcs-iitk/BCS_Workshop_Apr_20/blob/master/Python_Tutorial/Python_Tutorial.ipynb\"><img src=\"https://www.tensorflow.org/images/colab_logo_32px.png\" />Run in Google Colab</a>\n",
    "  </td>\n",
    "  <td>\n",
    "    <a target=\"_blank\" href=\"https://github.com/bcs-iitk/BCS_Workshop_Apr_20/blob/master/Python_Tutorial/Python_Tutorial.ipynb\"><img src=\"https://www.tensorflow.org/images/GitHub-Mark-32px.png\" />View source on GitHub</a>\n",
    "  </td>\n",
    "  <td>\n",
    "    <a href=\"https://github.com/bcs-iitk/BCS_Workshop_Apr_20/raw/master/Python_Tutorial/Python_Tutorial.ipynb\"><img src=\"https://www.tensorflow.org/images/download_logo_32px.png\" />Download notebook</a>\n",
    "  </td>\n",
    "</table>"
   ]
  },
  {
   "cell_type": "markdown",
   "metadata": {
    "colab_type": "text",
    "id": "f1UTiaLrwD-8"
   },
   "source": [
    "# Python Tutorial For The BCS Workshop Apr '20\n",
    "***Author:*** [*Shashi Kant*](http://shashikg.github.io/)\n",
    "\n",
    "This tutorial is targeted to those, who are not familiar with Python and use of Pyhton for scientific computing. "
   ]
  },
  {
   "cell_type": "markdown",
   "metadata": {
    "colab_type": "text",
    "id": "8DzEUxlv45GI"
   },
   "source": [
    "## Hello World Example"
   ]
  },
  {
   "cell_type": "code",
   "execution_count": 377,
   "metadata": {
    "colab": {},
    "colab_type": "code",
    "id": "t00OMGst4-e0"
   },
   "outputs": [
    {
     "name": "stdout",
     "output_type": "stream",
     "text": [
      "Helllo World\n"
     ]
    }
   ],
   "source": [
    "# This is a comment\n",
    "print(\"Helllo World\")"
   ]
  },
  {
   "cell_type": "markdown",
   "metadata": {
    "colab_type": "text",
    "id": "Ki5oKWco3F67"
   },
   "source": [
    "## Variables and basic data types\n",
    "\n",
    "Like other programming languages, Python also have similar basic data types such as integers, float, strings, etc. Unlike in C/ C++, you don't need any additional declaration of variables or their variable type, you can straight away start using. Examples given below will clear it for you. "
   ]
  },
  {
   "cell_type": "markdown",
   "metadata": {
    "colab_type": "text",
    "id": "h9EPF0Va4sAV"
   },
   "source": [
    "### Numbers"
   ]
  },
  {
   "cell_type": "code",
   "execution_count": 378,
   "metadata": {
    "colab": {},
    "colab_type": "code",
    "id": "pFhGQUtvvdeV"
   },
   "outputs": [
    {
     "name": "stdout",
     "output_type": "stream",
     "text": [
      "<class 'int'>\n",
      "x is: 2 and x + 1 is: 3\n",
      "x multiply by 3 is: 6 and x^3 is: 8\n",
      "27\n"
     ]
    }
   ],
   "source": [
    "# Integers\n",
    "\n",
    "x = 2 # This will create new integer variable 'x' with value as 2\n",
    "print(type(x))\n",
    "print(\"x is:\",x,\"and x + 1 is:\", x+1) # multiple print statements and addition of two integers\n",
    "print(\"x multiply by 3 is:\",x*3, \"and x^3 is:\", x**3) # multiplication and power of\n",
    "x+=1 # Increment statement : x=x+1\n",
    "x=x**3\n",
    "print(x) "
   ]
  },
  {
   "cell_type": "code",
   "execution_count": 379,
   "metadata": {
    "colab": {},
    "colab_type": "code",
    "id": "KbfM2EBT5vbJ"
   },
   "outputs": [
    {
     "name": "stdout",
     "output_type": "stream",
     "text": [
      "<class 'float'>\n",
      "x is: 2.0 and x + 1 is: 3.0\n",
      "x multiply by 3 is: 6.0 and x^3 is: 8.0\n",
      "3.0\n"
     ]
    }
   ],
   "source": [
    "# Floats\n",
    "\n",
    "x = 2.0 # This how you create a new float variable\n",
    "print(type(x))\n",
    "print(\"x is:\",x,\"and x + 1 is:\", x+1)\n",
    "print(\"x multiply by 3 is:\",x*3, \"and x^3 is:\", x**3)\n",
    "x += 1\n",
    "print(x)"
   ]
  },
  {
   "cell_type": "code",
   "execution_count": 380,
   "metadata": {
    "colab": {},
    "colab_type": "code",
    "id": "lGUo6SN76SF1"
   },
   "outputs": [
    {
     "name": "stdout",
     "output_type": "stream",
     "text": [
      "2 <class 'int'>\n",
      "3.0 <class 'float'>\n"
     ]
    }
   ],
   "source": [
    "# Type Conversion\n",
    "\n",
    "x = 2\n",
    "print(x, type(x))\n",
    "x += 1.0 # This will convert the integer data type to float data type\n",
    "print(x, type(x))"
   ]
  },
  {
   "cell_type": "markdown",
   "metadata": {
    "colab_type": "text",
    "id": "HBfUfNEQ62MW"
   },
   "source": [
    "### Strings"
   ]
  },
  {
   "cell_type": "code",
   "execution_count": 381,
   "metadata": {
    "colab": {},
    "colab_type": "code",
    "id": "kIwH3fn96n9s"
   },
   "outputs": [
    {
     "name": "stdout",
     "output_type": "stream",
     "text": [
      "<class 'str'>\n",
      "bcs_iitk\n",
      "8\n",
      "bcs_iitk workshop april 2020\n"
     ]
    }
   ],
   "source": [
    "x = \"bcs_iitk\"\n",
    "print(type(x))\n",
    "print(x)\n",
    "print(len(x))\n",
    "\n",
    "y = \"workshop april 2020\"\n",
    "z = x + \" \" + y # This is how you concatenate strings\n",
    "print(z)"
   ]
  },
  {
   "cell_type": "markdown",
   "metadata": {
    "colab_type": "text",
    "id": "Lpe66hWU73Oe"
   },
   "source": [
    "### Booleans"
   ]
  },
  {
   "cell_type": "code",
   "execution_count": 382,
   "metadata": {
    "colab": {},
    "colab_type": "code",
    "id": "RnIwkwJP7PE5"
   },
   "outputs": [
    {
     "name": "stdout",
     "output_type": "stream",
     "text": [
      "<class 'bool'>\n",
      "False\n",
      "True\n",
      "False\n"
     ]
    }
   ],
   "source": [
    "x = True\n",
    "y = False\n",
    "print(type(x))\n",
    "print(x and y)\n",
    "print(x or y)\n",
    "print(not x)"
   ]
  },
  {
   "cell_type": "markdown",
   "metadata": {
    "colab_type": "text",
    "id": "gvxsZehB8O1O"
   },
   "source": [
    "## Lists and Dictionaries"
   ]
  },
  {
   "cell_type": "markdown",
   "metadata": {
    "colab_type": "text",
    "id": "IDh8YHia8hoR"
   },
   "source": [
    "### Lists \n",
    "Lists are container which can contain several elements or values in one variable name. Quite similar to arrays in C/ C++ but with additional features.\n"
   ]
  },
  {
   "cell_type": "markdown",
   "metadata": {
    "colab_type": "text",
    "id": "6G1U7-ki_JyO"
   },
   "source": [
    "#### Creating lists"
   ]
  },
  {
   "cell_type": "code",
   "execution_count": 383,
   "metadata": {
    "colab": {},
    "colab_type": "code",
    "id": "yIjiBvSN8Z-X"
   },
   "outputs": [
    {
     "name": "stdout",
     "output_type": "stream",
     "text": [
      "x= [5, 1, 8]\n",
      "1st element: 5 and 1st last element: 8\n",
      "Change Value: [5, 2, 8]\n",
      "new element: [5, 2, 8, 4]\n",
      "Removed element: 4 | Left out list: [5, 2, 8]\n",
      "[]\n",
      "y: [5] | x: [2, 8]\n"
     ]
    }
   ],
   "source": [
    "x = [5, 1, 8] # Creating a list of 3 elements\n",
    "print('x=',x)\n",
    "\n",
    "# Calling individual element\n",
    "print(\"1st element:\",x[0],\"and 1st last element:\", x[-1])\n",
    "\n",
    "# change value\n",
    "x[1] = 2\n",
    "print(\"Change Value:\",x)\n",
    "\n",
    "# Add a new element\n",
    "x.append(4)\n",
    "print(\"new element:\",x)\n",
    "\n",
    "# Removing any element at specified index\n",
    "print(\"Removed element:\",x.pop(3), \"| Left out list:\",x)\n",
    "\n",
    "y = [] # Initialising an empty list\n",
    "print(y)\n",
    "y.append(x.pop(0))\n",
    "print(\"y:\",y, \"| x:\",x)"
   ]
  },
  {
   "cell_type": "markdown",
   "metadata": {
    "colab_type": "text",
    "id": "UVoHZB6a_VnH"
   },
   "source": [
    "#### Slicing\n",
    "In python you can easily get the sublists using slicing."
   ]
  },
  {
   "cell_type": "code",
   "execution_count": 384,
   "metadata": {
    "colab": {},
    "colab_type": "code",
    "id": "txf50iau_fIi"
   },
   "outputs": [
    {
     "name": "stdout",
     "output_type": "stream",
     "text": [
      "[0, 1, 2, 3, 4, 5, 6, 7, 8, 9]\n",
      "[2, 4, 6, 8]\n",
      "[0, 1, 2, 3, 4]\n",
      "[5, 6, 7, 8, 9]\n",
      "[3, 4, 5, 6, 7]\n",
      "[3, 4, 5, 3, 4, 5, 6, 7, 8, 9]\n"
     ]
    }
   ],
   "source": [
    "x = [*range(10)] # short trick to create a list containing integers from 0 to 10\n",
    "y = [*range(2,10,2)]\n",
    "print(x)\n",
    "print(y)\n",
    "print(x[:5]) # from starting index to 4\n",
    "print(x[5:]) # from 5 to last index\n",
    "print(x[3:8]) # from 3 to 7\n",
    "x[:3] = [*range(3,6)] # changing value of a slice\n",
    "print(x)"
   ]
  },
  {
   "cell_type": "markdown",
   "metadata": {
    "colab_type": "text",
    "id": "-BjnLk9eMcvo"
   },
   "source": [
    "### Dictionaries\n",
    "Dictionary are variables which stores key-value pairs."
   ]
  },
  {
   "cell_type": "code",
   "execution_count": 385,
   "metadata": {
    "colab": {},
    "colab_type": "code",
    "id": "3os3F0bpAQmt"
   },
   "outputs": [
    {
     "name": "stdout",
     "output_type": "stream",
     "text": [
      "{'Name': 'Gaurav', 'Branch': 'Electrical', 'Roll': 181041}\n",
      "Gaurav\n",
      "181041\n",
      "{'Name': 'Gaurav', 'Branch': 'Electrical', 'Roll': 181041, 'CPI': 'NA', 'Grade': 10}\n"
     ]
    }
   ],
   "source": [
    "# 'Name', 'Branch' and 'Roll' are keys || 'Shashi', 'Electrical' and 160645 are there respective values\n",
    "student_1 = {'Name': 'Gaurav', 'Branch': 'Electrical', 'Roll': 181041}\n",
    "print(student_1)\n",
    "print(student_1['Name'])\n",
    "print(student_1['Roll'])\n",
    "\n",
    "# Adding new key-value pair\n",
    "student_1['CPI'] = 'NA' # :-P\n",
    "student_1['Grade']=10\n",
    "print(student_1)"
   ]
  },
  {
   "cell_type": "markdown",
   "metadata": {
    "colab_type": "text",
    "id": "x_nDVvi1ODC_"
   },
   "source": [
    "## Conditional Statements (if-else)\n",
    "Conditional statements are used for decision making. Unlike C/C++, there is no switch-case thing in Python."
   ]
  },
  {
   "cell_type": "code",
   "execution_count": 386,
   "metadata": {
    "colab": {},
    "colab_type": "code",
    "id": "NWefhWGiOe9y"
   },
   "outputs": [
    {
     "name": "stdout",
     "output_type": "stream",
     "text": [
      "x is 1\n",
      "x is not 1\n",
      "x is 2\n",
      "x is neither 1 nor 2\n"
     ]
    }
   ],
   "source": [
    "x = 1\n",
    "\n",
    "if x == 1:\n",
    "    print(\"x is 1\")\n",
    "else:\n",
    "    print(\"x is not 1\")\n",
    "\n",
    "x = 2\n",
    "if x == 1:\n",
    "    print(\"x is 1\")\n",
    "else:\n",
    "    print(\"x is not 1\")\n",
    "    \n",
    "x = 2\n",
    "if x == 1:\n",
    "    print(\"x is 1\")\n",
    "elif x == 2:\n",
    "    print(\"x is 2\")\n",
    "else:\n",
    "    print(\"x is neither 1 nor 2\")\n",
    "    \n",
    "x = 3\n",
    "if x == 1:\n",
    "    print(\"x is 1\")\n",
    "elif x == 2:\n",
    "    print(\"x is 2\")\n",
    "else:\n",
    "    print(\"x is neither 1 nor 2\")"
   ]
  },
  {
   "cell_type": "markdown",
   "metadata": {
    "colab_type": "text",
    "id": "t6vT8PCDOvbp"
   },
   "source": [
    "## Loops\n",
    "Loops are used to run same kind of lines multiple times."
   ]
  },
  {
   "cell_type": "code",
   "execution_count": 387,
   "metadata": {
    "colab": {},
    "colab_type": "code",
    "id": "LZ9gypggPDQ2"
   },
   "outputs": [
    {
     "name": "stdout",
     "output_type": "stream",
     "text": [
      "[1, 2]\n",
      "5\n",
      "(6, 1)\n",
      "---using arange-----\n",
      "[0 1]\n",
      "[2 3]\n",
      "[4 5]\n",
      "---using range----\n",
      "We're on time 1\n",
      "We're on time 2\n",
      "0\n",
      "1\n",
      "2\n",
      "3\n",
      "---------------------------\n",
      "1 * 1 = 1\n",
      "1 * 2 = 2\n",
      "2 * 1 = 2\n",
      "2 * 2 = 4\n",
      "---strings-----\n",
      "H\n",
      "i\n",
      " \n",
      "O\n",
      "K\n",
      "-----list of strings-----\n",
      "I love My India\n",
      "I Love my Family\n",
      "----nested for loop---\n",
      "1\n",
      "2\n",
      "3\n",
      "4\n",
      "5\n",
      "6\n"
     ]
    }
   ],
   "source": [
    "# Looping over a list\n",
    "# for loop\n",
    "import numpy as np\n",
    "x = [[1,2], 5, (6,1)]\n",
    "for i in x:\n",
    "    print(i)\n",
    "print('---using arange-----')\n",
    "a=np.arange(6).reshape(3,2)\n",
    "for i in a:\n",
    "    print(i)\n",
    "print('---using range----')\n",
    "for x in range(1, 3):\n",
    "    print(\"We're on time %d\" % (x))\n",
    "mylist = ['a', 'b', 'c', 'd']\n",
    "for i in range(len(mylist)):\n",
    "    print(i)\n",
    "print('---------------------------')\n",
    "for x in range(1, 3): # 1 included but 3 not included\n",
    "    for y in range(1, 3):\n",
    "        print('%d * %d = %d' % (x, y, x*y))\n",
    "print('---strings-----')\n",
    "string = \"Hi OK\"\n",
    "for x in string:\n",
    "    print(x)\n",
    "print('-----list of strings-----')\n",
    "list1 = [\"I love My India\",\"I Love my Family\"]\n",
    "for x in collection:\n",
    "    print(x)\n",
    "print('----nested for loop---')\n",
    "list2 = [ [1, 2, 3], [4, 5, 6] ]\n",
    "for x in list2:\n",
    "    for y in x:\n",
    "        print(y)"
   ]
  },
  {
   "cell_type": "code",
   "execution_count": 388,
   "metadata": {
    "colab": {},
    "colab_type": "code",
    "id": "iJw_ju-RPTwv"
   },
   "outputs": [
    {
     "name": "stdout",
     "output_type": "stream",
     "text": [
      "[0, 1, 2, 3, 4]   [0, 1, 4, 9, 16]\n",
      "[0, 1, 8, 27, 64]\n"
     ]
    }
   ],
   "source": [
    "# list comprehension\n",
    "x = [*range(5)]\n",
    "s_cub = []\n",
    "x_sq = [i ** 2 for i in x]\n",
    "print(x,' ',x_sq)\n",
    "for i in x:\n",
    "    s_cub.append(i**3)\n",
    "print(s_cub)\n"
   ]
  },
  {
   "cell_type": "code",
   "execution_count": 389,
   "metadata": {
    "colab": {},
    "colab_type": "code",
    "id": "_gxO4oaJPbet"
   },
   "outputs": [
    {
     "name": "stdout",
     "output_type": "stream",
     "text": [
      "1\n",
      "2\n",
      "3\n",
      "4\n"
     ]
    }
   ],
   "source": [
    "# while loop\n",
    "x = 1\n",
    "while x<5:\n",
    "    print(x)\n",
    "    x+=1"
   ]
  },
  {
   "cell_type": "markdown",
   "metadata": {
    "colab_type": "text",
    "id": "FwSPz2zjPipe"
   },
   "source": [
    "## Functions\n",
    "Defined simply using ```def``` keyword. Can return as many variable as much you want. Can take optional keyword arguments as well."
   ]
  },
  {
   "cell_type": "code",
   "execution_count": 390,
   "metadata": {
    "colab": {},
    "colab_type": "code",
    "id": "755MZpcjPg0a"
   },
   "outputs": [
    {
     "name": "stdout",
     "output_type": "stream",
     "text": [
      "x^2 + x + 1 at x = 0 is: 1\n",
      "x^2 + x + 1 at x = 1 is: 3\n",
      "x^2 + x + 1 at x = 2 is: 7\n",
      "2x^2 + x + 1 at x = 2 is: 4\n"
     ]
    }
   ],
   "source": [
    "# simple python function\n",
    "def poly(poly_idx, x):\n",
    "    value = 0\n",
    "    l = len(poly_idx) - 1\n",
    "    for i in range(l+1):\n",
    "        value += poly_idx[i]*(x**(l-i)) # value = value + 1.x^2 + 1.x^1 + 1.x^0\n",
    "        \n",
    "    return value\n",
    "    \n",
    "# 1.x^1 + 1.x^0 + 1.x^\n",
    "print(\"x^2 + x + 1 at x = 0 is:\", poly([1, 1, 1], 0))\n",
    "print(\"x^2 + x + 1 at x = 1 is:\", poly([1, 1, 1], 1))\n",
    "print(\"x^2 + x + 1 at x = 2 is:\", poly([1, 1, 1], 2))\n",
    "print(\"2x^2 + x + 1 at x = 2 is:\", poly([2, 1, 1], 1))"
   ]
  },
  {
   "cell_type": "code",
   "execution_count": 391,
   "metadata": {},
   "outputs": [
    {
     "name": "stdout",
     "output_type": "stream",
     "text": [
      "values= [26, [1, 2, 3, 4], 2]\n",
      "Cubic Expression: a.x^3 + b.x^2 + c.x + d = 26 for [a,b,c,d]= [1, 2, 3, 4] and x= 2\n"
     ]
    }
   ],
   "source": [
    "# function which can return multiple values\n",
    "def cube(coefficient, x):\n",
    "    l = len(coefficient)\n",
    "    cube_value=0\n",
    "    for i in range(l):\n",
    "        cube_value+=coefficient[i]*(x**(l-(i+1)))\n",
    "        param=[cube_value,coefficient,x]\n",
    "    return param\n",
    "#   return cube_value, coefficient, x # It also works\n",
    "\n",
    "values = cube([1,2,3,4],2)\n",
    "print('values=',values)\n",
    "print(\"Cubic Expression: a.x^3 + b.x^2 + c.x + d =\",values[0],\"for [a,b,c,d]=\",values[1],'and x=',values[2])\n"
   ]
  },
  {
   "cell_type": "code",
   "execution_count": 392,
   "metadata": {},
   "outputs": [
    {
     "name": "stdout",
     "output_type": "stream",
     "text": [
      "values= [26, [1, 2, 3, 4], 2]\n",
      "Cubic Expression: a.x^3 + b.x^2 + c.x + d = 26 for [a,b,c,d]= [1, 2, 3, 4] and x= 2\n"
     ]
    }
   ],
   "source": [
    "# function which can return multiple values\n",
    "def cube(coefficient, x):\n",
    "    l = len(coefficient)\n",
    "    cube_value=0\n",
    "    for i in range(l):\n",
    "        cube_value+=coefficient[i]*(x**(l-(i+1)))\n",
    "    return cube_value, coefficient, x\n",
    "# values = cube([1,2,3,4],2)\n",
    "x , y, z = cube([1,2,3,4],2)\n",
    "print('values=',values)\n",
    "# print(\"Cubic Expression: a.x^3 + b.x^2 + c.x + d =\",values[0],\"for [a,b,c,d]=\",values[1],'and x=',values[2])\n",
    "print(\"Cubic Expression: a.x^3 + b.x^2 + c.x + d =\",x,\"for [a,b,c,d]=\",y,'and x=',z)\n"
   ]
  },
  {
   "cell_type": "code",
   "execution_count": 393,
   "metadata": {
    "colab": {},
    "colab_type": "code",
    "id": "kSf6RCaJQAY_"
   },
   "outputs": [
    {
     "name": "stdout",
     "output_type": "stream",
     "text": [
      "1 2 3\n"
     ]
    }
   ],
   "source": [
    "# function which can return multiple values\n",
    "def get_data():\n",
    "  return 1, 2, 3\n",
    "\n",
    "x, y, z = get_data()\n",
    "\n",
    "print(x, y, z)"
   ]
  },
  {
   "cell_type": "code",
   "execution_count": 394,
   "metadata": {
    "colab": {},
    "colab_type": "code",
    "id": "z2EGiHHBSMdr"
   },
   "outputs": [
    {
     "name": "stdout",
     "output_type": "stream",
     "text": [
      "Hi Shashi!\n",
      "Bye Shashi!\n"
     ]
    }
   ],
   "source": [
    "# function with optional keyword argument\n",
    "def greet(to_whom, greet_type=\"Hi\"):\n",
    "  print(greet_type, \"Shashi!\")\n",
    "\n",
    "greet(\"Shashi\")\n",
    "greet(\"Shashi\", greet_type=\"Bye\")"
   ]
  },
  {
   "cell_type": "code",
   "execution_count": 395,
   "metadata": {},
   "outputs": [
    {
     "name": "stdout",
     "output_type": "stream",
     "text": [
      "I am in love with Aditi Singh.  I am waiting for here to show interest in me.\n"
     ]
    }
   ],
   "source": [
    "print(\"I am in love with Aditi Singh.\",\" I am waiting for here to show interest in me.\")"
   ]
  },
  {
   "cell_type": "markdown",
   "metadata": {
    "colab_type": "text",
    "id": "YaKU_FfMTfDz"
   },
   "source": [
    "## Classes"
   ]
  },
  {
   "cell_type": "code",
   "execution_count": 396,
   "metadata": {
    "colab": {},
    "colab_type": "code",
    "id": "gQ7xYRiLTX4a"
   },
   "outputs": [
    {
     "name": "stdout",
     "output_type": "stream",
     "text": [
      "160645\n",
      "Hi Shashi\n",
      "Bye Shashi\n"
     ]
    }
   ],
   "source": [
    "class Person():\n",
    "    def __init__(self, name, roll):\n",
    "        self.name = name\n",
    "        self.roll = roll\n",
    "        \n",
    "    def get_roll(self):\n",
    "        return self.roll\n",
    "    \n",
    "    def greet(self, say_hi_bye=\"Hi\"):\n",
    "        print(say_hi_bye, self.name) \n",
    "        \n",
    "p1 = Person(name=\"Shashi\", roll=160645)\n",
    "\n",
    "print(p1.get_roll())\n",
    "p1.greet()\n",
    "p1.greet(say_hi_bye=\"Bye\")"
   ]
  },
  {
   "cell_type": "markdown",
   "metadata": {
    "colab_type": "text",
    "id": "UHYk-BexVCFT"
   },
   "source": [
    "## Practice Assignment - 1 [Not graded]"
   ]
  },
  {
   "cell_type": "markdown",
   "metadata": {
    "colab_type": "text",
    "id": "11IM79czVT1A"
   },
   "source": [
    "### Try creating merge sort algorithm\n",
    "\n"
   ]
  },
  {
   "cell_type": "markdown",
   "metadata": {
    "colab_type": "text",
    "id": "8BL2Z32vWoVU"
   },
   "source": [
    "Pseudo code is given below:\n",
    "\n",
    "```\n",
    "// SRC: https://www.geeksforgeeks.org/merge-sort/\n",
    "\n",
    "MergeSort(arr[], l,  r)\n",
    "If r > l\n",
    "     1. Find the middle point to divide the array into two halves:  \n",
    "             middle m = (l+r)/2\n",
    "     2. Call mergeSort for first half:   \n",
    "             Call mergeSort(arr, l, m)\n",
    "     3. Call mergeSort for second half:\n",
    "             Call mergeSort(arr, m+1, r)\n",
    "     4. Merge the two halves sorted in step 2 and 3:\n",
    "             Call merge(arr, l, m, r)\n",
    "```"
   ]
  },
  {
   "cell_type": "code",
   "execution_count": 397,
   "metadata": {
    "colab": {},
    "colab_type": "code",
    "id": "3Z0PD7VVWSIo"
   },
   "outputs": [],
   "source": [
    "# Write your code here"
   ]
  },
  {
   "cell_type": "markdown",
   "metadata": {
    "colab_type": "text",
    "id": "5r0oyV2VUiQE"
   },
   "source": [
    "## SciPy\n",
    "It contains a collection of python packages for mathematics, science and egineering. We will be covering some of the basics of some of the important packages: **NumPy** and **Matplotlib**"
   ]
  },
  {
   "cell_type": "markdown",
   "metadata": {
    "colab_type": "text",
    "id": "J-c7oLkUYqT2"
   },
   "source": [
    "### NumPy"
   ]
  },
  {
   "cell_type": "markdown",
   "metadata": {
    "colab_type": "text",
    "id": "FROjbDpsYFLp"
   },
   "source": [
    "#### General"
   ]
  },
  {
   "cell_type": "code",
   "execution_count": 398,
   "metadata": {
    "colab": {},
    "colab_type": "code",
    "id": "vterOnKZTpq7"
   },
   "outputs": [],
   "source": [
    "import numpy as np # this is how you import libraries in Python"
   ]
  },
  {
   "cell_type": "code",
   "execution_count": 399,
   "metadata": {
    "colab": {},
    "colab_type": "code",
    "id": "P6KQpbT-XF02"
   },
   "outputs": [
    {
     "name": "stdout",
     "output_type": "stream",
     "text": [
      "[3 1 5]\n",
      "(3,)\n",
      "1\n",
      "[3 1]\n",
      "[[1 2]\n",
      " [3 4]]\n"
     ]
    }
   ],
   "source": [
    "# creating numpy arrays\n",
    "x = np.asarray([3, 1, 5])\n",
    "print(x)\n",
    "print(x.shape)\n",
    "print(x[1])\n",
    "print(x[:2])\n",
    "\n",
    "print(np.asarray([[1, 2],[3, 4]]))"
   ]
  },
  {
   "cell_type": "code",
   "execution_count": 400,
   "metadata": {
    "colab": {},
    "colab_type": "code",
    "id": "rooU0xOlXJ5T"
   },
   "outputs": [
    {
     "name": "stdout",
     "output_type": "stream",
     "text": [
      "(2, 2)\n",
      "[[0.30589882 0.58236121]\n",
      " [0.84052489 0.46485857]]\n",
      "0.46485857264360964\n"
     ]
    }
   ],
   "source": [
    "x = np.random.random((2,2)) #random 2x2 array\n",
    "print(x.shape)\n",
    "print(x)\n",
    "print(x[1,1])"
   ]
  },
  {
   "cell_type": "code",
   "execution_count": 401,
   "metadata": {
    "colab": {},
    "colab_type": "code",
    "id": "yMVvh4vvXXhK"
   },
   "outputs": [
    {
     "name": "stdout",
     "output_type": "stream",
     "text": [
      "[ 0  1  2  3  4  5  6  7  8  9 10 11 12 13 14 15]\n",
      "[[ 0  1  2  3]\n",
      " [ 4  5  6  7]\n",
      " [ 8  9 10 11]\n",
      " [12 13 14 15]]\n",
      "------------------\n",
      "(2, 3)\n",
      "[[1 2 3]\n",
      " [5 6 7]]\n",
      "2 3\n"
     ]
    }
   ],
   "source": [
    "x = np.arange(16) #linear array with values ranging from 0 to 15\n",
    "print(x)\n",
    "x = x.reshape((4,4)) #reshaping\n",
    "print(x)\n",
    "print('------------------')\n",
    "# indexing\n",
    "y = x[:2, 1:]\n",
    "print(y.shape)\n",
    "print(y)\n",
    "print(y.shape[0], y.shape[1])"
   ]
  },
  {
   "cell_type": "code",
   "execution_count": 402,
   "metadata": {
    "colab": {},
    "colab_type": "code",
    "id": "qU7nRXD_XojO"
   },
   "outputs": [
    {
     "name": "stdout",
     "output_type": "stream",
     "text": [
      "[0 1 2 3 4 5 6 7]\n",
      "[False False False False False False  True  True]\n",
      "[6 7]\n"
     ]
    }
   ],
   "source": [
    "# boolean indexing\n",
    "x = np.arange(8)\n",
    "print(x)\n",
    "print(x>5)\n",
    "print(x[x>5])"
   ]
  },
  {
   "cell_type": "markdown",
   "metadata": {
    "colab_type": "text",
    "id": "8eIgkAT5YJWM"
   },
   "source": [
    "#### Broadcasting"
   ]
  },
  {
   "cell_type": "code",
   "execution_count": 403,
   "metadata": {
    "colab": {},
    "colab_type": "code",
    "id": "uxGbQ1q8XyQM"
   },
   "outputs": [
    {
     "name": "stdout",
     "output_type": "stream",
     "text": [
      "[ 2.  5. 10. 17.]\n",
      "[ 2  5 10 17]\n"
     ]
    }
   ],
   "source": [
    "# Broadcasting \n",
    "\n",
    "x = np.asarray([1, 4, 9, 16])\n",
    "y = np.ones(4,)\n",
    "\n",
    "## Adding 1\n",
    "\n",
    "# Usual way\n",
    "print(x+y)\n",
    "# broadcasting\n",
    "print(x+1)"
   ]
  },
  {
   "cell_type": "code",
   "execution_count": 404,
   "metadata": {
    "colab": {},
    "colab_type": "code",
    "id": "trYTS4jFX9gA"
   },
   "outputs": [
    {
     "name": "stdout",
     "output_type": "stream",
     "text": [
      "[[1 2]\n",
      " [3 4]]\n",
      "[[2]\n",
      " [2]]\n"
     ]
    }
   ],
   "source": [
    "x = np.asarray([[1, 2], [3, 4]])\n",
    "y = np.asarray([[2], [2]])\n",
    "\n",
    "print(x)\n",
    "print(y)"
   ]
  },
  {
   "cell_type": "code",
   "execution_count": 405,
   "metadata": {
    "colab": {},
    "colab_type": "code",
    "id": "dA87Gwd_YOV1"
   },
   "outputs": [
    {
     "name": "stdout",
     "output_type": "stream",
     "text": [
      "[[2 4]\n",
      " [6 8]]\n"
     ]
    }
   ],
   "source": [
    "print(x*2) #multiplied to all the indexes"
   ]
  },
  {
   "cell_type": "code",
   "execution_count": 406,
   "metadata": {
    "colab": {},
    "colab_type": "code",
    "id": "cXDktx_MYRrK"
   },
   "outputs": [
    {
     "name": "stdout",
     "output_type": "stream",
     "text": [
      "[[2 4]\n",
      " [6 8]]\n"
     ]
    }
   ],
   "source": [
    "print(x*y) #again mulptiplication"
   ]
  },
  {
   "cell_type": "code",
   "execution_count": 407,
   "metadata": {
    "colab": {},
    "colab_type": "code",
    "id": "gwURP8PiYXqg"
   },
   "outputs": [
    {
     "name": "stdout",
     "output_type": "stream",
     "text": [
      "[[ 6]\n",
      " [14]]\n"
     ]
    }
   ],
   "source": [
    "print(np.dot(x, y)) #dot product"
   ]
  },
  {
   "cell_type": "code",
   "execution_count": 408,
   "metadata": {
    "colab": {},
    "colab_type": "code",
    "id": "FLx9UDryYdn9"
   },
   "outputs": [
    {
     "name": "stdout",
     "output_type": "stream",
     "text": [
      "(2, 1)\n",
      "(1, 2)\n"
     ]
    }
   ],
   "source": [
    "print(y.shape)\n",
    "print(y.T.shape) # transpose"
   ]
  },
  {
   "cell_type": "markdown",
   "metadata": {
    "colab_type": "text",
    "id": "13i6ciPkYuvT"
   },
   "source": [
    "### MatplotLib"
   ]
  },
  {
   "cell_type": "code",
   "execution_count": 409,
   "metadata": {
    "colab": {},
    "colab_type": "code",
    "id": "1APdjTtUY7ef"
   },
   "outputs": [
    {
     "data": {
      "image/png": "[encoded data removed]",
      "text/plain": [
       "<Figure size 432x288 with 1 Axes>"
      ]
     },
     "metadata": {
      "needs_background": "light"
     },
     "output_type": "display_data"
    }
   ],
   "source": [
    "import matplotlib.pyplot as plt # creating a shorthand name for the imported library\n",
    "x = np.arange(0, 6 * np.pi, 0.2)\n",
    "ys = np.sin(x)\n",
    "yc = np.cos(x)\n",
    "\n",
    "plt.plot(x, ys)\n",
    "plt.plot(x, yc)\n",
    "plt.xlabel('x axis')\n",
    "plt.ylabel('y axis')\n",
    "plt.title('Sin and Cos Curve')\n",
    "plt.legend(['Sin', 'Cos'])\n",
    "plt.grid()"
   ]
  },
  {
   "cell_type": "markdown",
   "metadata": {
    "colab_type": "text",
    "id": "O3VDV0UdZEDn"
   },
   "source": [
    "### SciPy Stats\n",
    "Those who don't have any backgrounds in statistics can get back here after completing the stats lecture."
   ]
  },
  {
   "cell_type": "code",
   "execution_count": 410,
   "metadata": {
    "colab": {},
    "colab_type": "code",
    "id": "HMnP6TpzY_nR"
   },
   "outputs": [
    {
     "data": {
      "text/plain": [
       "<scipy.stats._distn_infrastructure.rv_frozen at 0x1e3f87a82c8>"
      ]
     },
     "execution_count": 410,
     "metadata": {},
     "output_type": "execute_result"
    }
   ],
   "source": [
    "import scipy.stats\n",
    "\n",
    "rv = scipy.stats.norm(0, 1) # getting a normal random var of mean=0 and var=1\n",
    "rv"
   ]
  },
  {
   "cell_type": "code",
   "execution_count": 411,
   "metadata": {
    "colab": {},
    "colab_type": "code",
    "id": "iKkVD5AqaZYF"
   },
   "outputs": [
    {
     "name": "stdout",
     "output_type": "stream",
     "text": [
      "[ 0.63984404 -2.14848245 -0.8929289  ...  0.44073136  0.09625852\n",
      " -1.60845008]\n",
      "(10000,)\n"
     ]
    }
   ],
   "source": [
    "samples = rv.rvs(10000) # taking a random sample\n",
    "print(samples)\n",
    "print(samples.shape)"
   ]
  },
  {
   "cell_type": "code",
   "execution_count": 412,
   "metadata": {
    "colab": {},
    "colab_type": "code",
    "id": "8EwEhd6eZX2-"
   },
   "outputs": [
    {
     "name": "stdout",
     "output_type": "stream",
     "text": [
      "(160,)\n",
      "(160,)\n"
     ]
    }
   ],
   "source": [
    "x = np.arange(-4, 4, 0.05)\n",
    "print(x.shape)\n",
    "y = rv.pdf(x) # will give the probability distribution function of the random var 'rv'\n",
    "print(y.shape)"
   ]
  },
  {
   "cell_type": "code",
   "execution_count": 413,
   "metadata": {
    "colab": {},
    "colab_type": "code",
    "id": "3a6cKS86aLPn"
   },
   "outputs": [
    {
     "data": {
      "text/plain": [
       "[<matplotlib.lines.Line2D at 0x1e3f87cd088>]"
      ]
     },
     "execution_count": 413,
     "metadata": {},
     "output_type": "execute_result"
    },
    {
     "data": {
      "image/png": "[encoded data removed]",
      "text/plain": [
       "<Figure size 432x288 with 1 Axes>"
      ]
     },
     "metadata": {
      "needs_background": "light"
     },
     "output_type": "display_data"
    }
   ],
   "source": [
    "temp = plt.hist(samples, density=True, bins=100) # plot histogram i.e. frequency dist\n",
    "plt.plot(x, y, 'r-', lw=3)"
   ]
  },
  {
   "cell_type": "code",
   "execution_count": 414,
   "metadata": {
    "colab": {},
    "colab_type": "code",
    "id": "HgHfaAp5aTK-"
   },
   "outputs": [
    {
     "data": {
      "text/plain": [
       "[<matplotlib.lines.Line2D at 0x1e3f8991408>]"
      ]
     },
     "execution_count": 414,
     "metadata": {},
     "output_type": "execute_result"
    },
    {
     "data": {
      "image/png": "[encoded data removed]",
      "text/plain": [
       "<Figure size 432x288 with 1 Axes>"
      ]
     },
     "metadata": {
      "needs_background": "light"
     },
     "output_type": "display_data"
    }
   ],
   "source": [
    "# An another example with mean=5 and var=1\n",
    "rv = scipy.stats.norm(5, 1)\n",
    "samples = rv.rvs(10000)\n",
    "x = np.arange(0, 10, 0.05)\n",
    "y = rv.pdf(x)\n",
    "temp = plt.hist(samples, density=True, bins=100)\n",
    "plt.plot(x, y, 'r-', lw=3)"
   ]
  },
  {
   "cell_type": "code",
   "execution_count": 415,
   "metadata": {
    "colab": {},
    "colab_type": "code",
    "id": "hAe_p8hwamqG"
   },
   "outputs": [
    {
     "data": {
      "text/plain": [
       "[<matplotlib.lines.Line2D at 0x1e3f8aeaf48>]"
      ]
     },
     "execution_count": 415,
     "metadata": {},
     "output_type": "execute_result"
    },
    {
     "data": {
      "image/png": "[encoded data removed]",
      "text/plain": [
       "<Figure size 432x288 with 1 Axes>"
      ]
     },
     "metadata": {
      "needs_background": "light"
     },
     "output_type": "display_data"
    }
   ],
   "source": [
    "# An another example with mean=0 and var=3\n",
    "rv = scipy.stats.norm(0, 3)\n",
    "samples = rv.rvs(10000)\n",
    "x = np.arange(-5, 5, 0.05)\n",
    "y = rv.pdf(x)\n",
    "temp = plt.hist(samples, density=True, bins=100)\n",
    "plt.plot(x, y, 'r-', lw=3)"
   ]
  },
  {
   "cell_type": "markdown",
   "metadata": {
    "colab_type": "text",
    "id": "sD5uON7QoiNc"
   },
   "source": [
    "# For further reference\n",
    "\n",
    "\n",
    "*   [A Byte of Python](https://python.swaroopch.com/)\n",
    "*   [NumPy Quickstart Tutorial](https://numpy.org/devdocs/user/quickstart.html#further-reading)\n",
    "*   [Scipy Lecture Notes](https://numpy.org/devdocs/user/quickstart.html#further-reading)\n",
    "\n"
   ]
  }
 ],
 "metadata": {
  "colab": {
   "collapsed_sections": [
    "f1UTiaLrwD-8",
    "Ki5oKWco3F67",
    "h9EPF0Va4sAV",
    "HBfUfNEQ62MW",
    "Lpe66hWU73Oe",
    "gvxsZehB8O1O",
    "IDh8YHia8hoR",
    "6G1U7-ki_JyO",
    "UVoHZB6a_VnH",
    "-BjnLk9eMcvo",
    "x_nDVvi1ODC_",
    "t6vT8PCDOvbp",
    "FwSPz2zjPipe",
    "YaKU_FfMTfDz",
    "UHYk-BexVCFT",
    "11IM79czVT1A",
    "5r0oyV2VUiQE",
    "J-c7oLkUYqT2",
    "FROjbDpsYFLp",
    "8eIgkAT5YJWM",
    "13i6ciPkYuvT",
    "O3VDV0UdZEDn"
   ],
   "name": "Python_Tutorial.ipynb",
   "provenance": [],
   "toc_visible": true
  },
  "kernelspec": {
   "display_name": "Python 3",
   "language": "python",
   "name": "python3"
  },
  "language_info": {
   "codemirror_mode": {
    "name": "ipython",
    "version": 3
   },
   "file_extension": ".py",
   "mimetype": "text/x-python",
   "name": "python",
   "nbconvert_exporter": "python",
   "pygments_lexer": "ipython3",
   "version": "3.7.5"
  }
 },
 "nbformat": 4,
 "nbformat_minor": 1
}
