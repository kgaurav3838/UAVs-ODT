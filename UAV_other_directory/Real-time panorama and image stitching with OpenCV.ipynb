{
 "cells": [
  {
   "cell_type": "code",
   "execution_count": 1,
   "metadata": {},
   "outputs": [
    {
     "data": {
      "text/plain": [
       "'E:\\\\OneDrive - IIT Kanpur\\\\IITK OneDrive\\\\ODAT\\\\UAVs\\\\UAVs-ODT'"
      ]
     },
     "execution_count": 1,
     "metadata": {},
     "output_type": "execute_result"
    }
   ],
   "source": [
    "pwd"
   ]
  },
  {
   "cell_type": "code",
   "execution_count": 2,
   "metadata": {},
   "outputs": [
    {
     "ename": "IndentationError",
     "evalue": "expected an indented block (<ipython-input-2-1508f533f6a0>, line 6)",
     "output_type": "error",
     "traceback": [
      "\u001b[1;36m  File \u001b[1;32m\"<ipython-input-2-1508f533f6a0>\"\u001b[1;36m, line \u001b[1;32m6\u001b[0m\n\u001b[1;33m    def __init__(self):\u001b[0m\n\u001b[1;37m      ^\u001b[0m\n\u001b[1;31mIndentationError\u001b[0m\u001b[1;31m:\u001b[0m expected an indented block\n"
     ]
    }
   ],
   "source": [
    "# import the necessary packages\n",
    "import numpy as np\n",
    "import imutils\n",
    "import cv2\n",
    "class Stitcher:\n",
    "def __init__(self):\n",
    "# determine if we are using OpenCV v3.X and initialize the\n",
    "# cached homography matrix\n",
    "self.isv3 = imutils.is_cv3()\n",
    "self.cachedH = None\n",
    "def stitch(self, images, ratio=0.75, reprojThresh=4.0):\n",
    "# unpack the images\n",
    "(imageB, imageA) = images\n",
    "# if the cached homography matrix is None, then we need to\n",
    "# apply keypoint matching to construct it\n",
    "if self.cachedH is None:\n",
    "# detect keypoints and extract\n",
    "(kpsA, featuresA) = self.detectAndDescribe(imageA)\n",
    "(kpsB, featuresB) = self.detectAndDescribe(imageB)\n",
    "# match features between the two images\n",
    "M = self.matchKeypoints(kpsA, kpsB,\n",
    "featuresA, featuresB, ratio, reprojThresh)\n",
    "# if the match is None, then there aren't enough matched\n",
    "# keypoints to create a panorama\n",
    "if M is None:\n",
    "return None\n",
    "# cache the homography matrix\n",
    "self.cachedH = M[1]\n",
    "# apply a perspective transform to stitch the images together\n",
    "# using the cached homography matrix\n",
    "result = cv2.warpPerspective(imageA, self.cachedH,\n",
    "(imageA.shape[1] + imageB.shape[1], imageA.shape[0]))\n",
    "result[0:imageB.shape[0], 0:imageB.shape[1]] = imageB\n",
    "# return the stitched image\n",
    "return result\n"
   ]
  },
  {
   "cell_type": "code",
   "execution_count": null,
   "metadata": {},
   "outputs": [],
   "source": []
  }
 ],
 "metadata": {
  "kernelspec": {
   "display_name": "Python 3",
   "language": "python",
   "name": "python3"
  },
  "language_info": {
   "codemirror_mode": {
    "name": "ipython",
    "version": 3
   },
   "file_extension": ".py",
   "mimetype": "text/x-python",
   "name": "python",
   "nbconvert_exporter": "python",
   "pygments_lexer": "ipython3",
   "version": "3.7.5"
  }
 },
 "nbformat": 4,
 "nbformat_minor": 2
}
