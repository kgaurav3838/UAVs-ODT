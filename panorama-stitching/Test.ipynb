{
 "cells": [
  {
   "cell_type": "code",
   "execution_count": 2,
   "metadata": {},
   "outputs": [],
   "source": [
    "# USAGE\n",
    "# python stitch.py --first images/bryce_left_01.png --second images/bryce_right_01.png \n",
    "\n",
    "# import the necessary packages\n",
    "from imagesearch.panorama import Stitcher\n",
    "import argparse\n",
    "import imutils\n",
    "import cv2\n",
    "\n",
    "# load the two images and resize them to have a width of 400 pixels\n",
    "# (for faster processing)\n",
    "imageA = cv2.imread(\"../images/left1.png\")\n",
    "imageB = cv2.imread(\"../images/right1.png\")\n",
    "imageA = imutils.resize(imageA, width=400)\n",
    "imageB = imutils.resize(imageB, width=400)\n",
    "\n",
    "# stitch the images together to create a panorama\n",
    "stitcher = Stitcher()\n",
    "(result, vis) = stitcher.stitch([imageA, imageB], showMatches=True)\n",
    "\n",
    "# show the images\n",
    "cv2.imshow(\"Image A\", imageA)\n",
    "cv2.imshow(\"Image B\", imageB)\n",
    "cv2.imshow(\"Keypoint Matches\", vis)\n",
    "cv2.imshow(\"Result\", result)\n",
    "if cv2.waitKey(0):\n",
    "    cv2.destroyAllWindows()"
   ]
  },
  {
   "cell_type": "code",
   "execution_count": null,
   "metadata": {},
   "outputs": [],
   "source": []
  }
 ],
 "metadata": {
  "kernelspec": {
   "display_name": "Python 3.7.5 64-bit ('base': conda)",
   "language": "python",
   "name": "python37564bitbaseconda8c87ca84306f4e5bbaef848a9f4697f3"
  },
  "language_info": {
   "codemirror_mode": {
    "name": "ipython",
    "version": 3
   },
   "file_extension": ".py",
   "mimetype": "text/x-python",
   "name": "python",
   "nbconvert_exporter": "python",
   "pygments_lexer": "ipython3",
   "version": "3.7.5"
  }
 },
 "nbformat": 4,
 "nbformat_minor": 2
}
