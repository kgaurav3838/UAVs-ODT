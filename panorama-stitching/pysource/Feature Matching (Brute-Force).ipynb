{
 "cells": [
  {
   "cell_type": "code",
   "execution_count": 18,
   "metadata": {},
   "outputs": [
    {
     "ename": "error",
     "evalue": "OpenCV(3.4.1) C:\\Miniconda3\\conda-bld\\opencv-suite_1533128839831\\work\\modules\\features2d\\src\\draw.cpp:212: error: (-215) i2 >= 0 && i2 < static_cast<int>(keypoints2.size()) in function cv::drawMatches\n",
     "output_type": "error",
     "traceback": [
      "\u001b[1;31m---------------------------------------------------------------------------\u001b[0m",
      "\u001b[1;31merror\u001b[0m                                     Traceback (most recent call last)",
      "\u001b[1;32m<ipython-input-18-170ec2e56497>\u001b[0m in \u001b[0;36m<module>\u001b[1;34m\u001b[0m\n\u001b[0;32m     29\u001b[0m \u001b[0mmatches\u001b[0m \u001b[1;33m=\u001b[0m \u001b[0mbf\u001b[0m\u001b[1;33m.\u001b[0m\u001b[0mmatch\u001b[0m\u001b[1;33m(\u001b[0m\u001b[0mdes1_surf\u001b[0m\u001b[1;33m,\u001b[0m \u001b[0mdes2_surf\u001b[0m\u001b[1;33m)\u001b[0m\u001b[1;33m\u001b[0m\u001b[1;33m\u001b[0m\u001b[0m\n\u001b[0;32m     30\u001b[0m \u001b[0mmatches\u001b[0m \u001b[1;33m=\u001b[0m \u001b[0msorted\u001b[0m\u001b[1;33m(\u001b[0m\u001b[0mmatches\u001b[0m\u001b[1;33m,\u001b[0m \u001b[0mkey\u001b[0m \u001b[1;33m=\u001b[0m \u001b[1;32mlambda\u001b[0m \u001b[0mx\u001b[0m\u001b[1;33m:\u001b[0m\u001b[0mx\u001b[0m\u001b[1;33m.\u001b[0m\u001b[0mdistance\u001b[0m\u001b[1;33m)\u001b[0m\u001b[1;33m\u001b[0m\u001b[1;33m\u001b[0m\u001b[0m\n\u001b[1;32m---> 31\u001b[1;33m \u001b[0mmatching_result\u001b[0m \u001b[1;33m=\u001b[0m \u001b[0mcv2\u001b[0m\u001b[1;33m.\u001b[0m\u001b[0mdrawMatches\u001b[0m\u001b[1;33m(\u001b[0m\u001b[0mimg1\u001b[0m\u001b[1;33m,\u001b[0m \u001b[0mkp2_surf\u001b[0m\u001b[1;33m,\u001b[0m \u001b[0mimg2\u001b[0m\u001b[1;33m,\u001b[0m \u001b[0mkp1_surf\u001b[0m\u001b[1;33m,\u001b[0m \u001b[0mmatches\u001b[0m\u001b[1;33m[\u001b[0m\u001b[1;33m:\u001b[0m\u001b[1;36m50\u001b[0m\u001b[1;33m]\u001b[0m\u001b[1;33m,\u001b[0m \u001b[1;32mNone\u001b[0m\u001b[1;33m,\u001b[0m \u001b[0mflags\u001b[0m\u001b[1;33m=\u001b[0m\u001b[1;36m2\u001b[0m\u001b[1;33m)\u001b[0m\u001b[1;33m\u001b[0m\u001b[1;33m\u001b[0m\u001b[0m\n\u001b[0m\u001b[0;32m     32\u001b[0m \u001b[0mprint\u001b[0m\u001b[1;33m(\u001b[0m\u001b[1;34m\"Time=\"\u001b[0m\u001b[1;33m,\u001b[0m\u001b[1;33m(\u001b[0m\u001b[0mtime\u001b[0m\u001b[1;33m.\u001b[0m\u001b[0mtime\u001b[0m\u001b[1;33m(\u001b[0m\u001b[1;33m)\u001b[0m\u001b[1;33m-\u001b[0m\u001b[0mstart\u001b[0m\u001b[1;33m)\u001b[0m\u001b[1;33m*\u001b[0m\u001b[1;36m1000\u001b[0m\u001b[1;33m)\u001b[0m \u001b[1;31m# Time in milli seconds\u001b[0m\u001b[1;33m\u001b[0m\u001b[1;33m\u001b[0m\u001b[0m\n\u001b[0;32m     33\u001b[0m \u001b[0mcv2\u001b[0m\u001b[1;33m.\u001b[0m\u001b[0mimshow\u001b[0m\u001b[1;33m(\u001b[0m\u001b[1;34m\"Img1\"\u001b[0m\u001b[1;33m,\u001b[0m \u001b[0mimg1\u001b[0m\u001b[1;33m)\u001b[0m\u001b[1;33m\u001b[0m\u001b[1;33m\u001b[0m\u001b[0m\n",
      "\u001b[1;31merror\u001b[0m: OpenCV(3.4.1) C:\\Miniconda3\\conda-bld\\opencv-suite_1533128839831\\work\\modules\\features2d\\src\\draw.cpp:212: error: (-215) i2 >= 0 && i2 < static_cast<int>(keypoints2.size()) in function cv::drawMatches\n"
     ]
    }
   ],
   "source": [
    "import cv2\n",
    "import numpy as np\n",
    "import time\n",
    "start = time.time()\n",
    "cv2.namedWindow(\"Img1\", cv2.WINDOW_NORMAL)\n",
    "cv2.namedWindow(\"Img2\", cv2.WINDOW_NORMAL)\n",
    "cv2.namedWindow(\"Matching_result\", cv2.WINDOW_NORMAL) # Create window with freedom of dimensions\n",
    "# cv2.resizeWindow(\"output\", 400, 300)               # Resize window to specified dimensions\n",
    "\n",
    "img1 = cv2.imread(\"../images/left1.png\", cv2.IMREAD_GRAYSCALE)\n",
    "img2 = cv2.imread(\"../images/right1.png\", cv2.IMREAD_GRAYSCALE)\n",
    "# ORB Detector\n",
    "orb = cv2.ORB_create()\n",
    "kp1_orb, des1_orb = orb.detectAndCompute(img1, None)\n",
    "kp2_orb, des2_orb = orb.detectAndCompute(img2, None)\n",
    "\n",
    "# surf detector\n",
    "surf = cv2.xfeatures2d.SURF_create()\n",
    "kp1_surf, des1_surf = surf.detectAndCompute(img1, None)\n",
    "kp2_surf, des2_surf = surf.detectAndCompute(img2, None)\n",
    "\n",
    "# sift detector\n",
    "sift = cv2.xfeatures2d.SIFT_create()\n",
    "kp1_sift, des1_sift = sift.detectAndCompute(img1, None)\n",
    "kp2_sift, des2_sift = sift.detectAndCompute(img2, None)\n",
    "\n",
    "# Brute Force Matching\n",
    "bf = cv2.BFMatcher(cv2.NORM_L2, crossCheck=True)\n",
    "matches = bf.match(des1_surf, des2_surf)\n",
    "matches = sorted(matches, key = lambda x:x.distance)\n",
    "matching_result = cv2.drawMatches(img2, kp2_surf, img1, kp1_surf, matches[:50], None, flags=2)\n",
    "print(\"Time=\",(time.time()-start)*1000) # Time in milli seconds\n",
    "cv2.imshow(\"Img1\", img1)\n",
    "cv2.imshow(\"Img2\", img2)\n",
    "cv2.imshow(\"Matching_result\", matching_result)\n",
    "cv2.waitKey(0)\n",
    "cv2.destroyAllWindows()\n"
   ]
  },
  {
   "cell_type": "code",
   "execution_count": 9,
   "metadata": {},
   "outputs": [],
   "source": [
    "cv2.destroyAllWindows()"
   ]
  },
  {
   "cell_type": "code",
   "execution_count": 63,
   "metadata": {},
   "outputs": [
    {
     "ename": "TypeError",
     "evalue": "drawMatches() missing required argument 'outImg' (pos 6)",
     "output_type": "error",
     "traceback": [
      "\u001b[1;31m---------------------------------------------------------------------------\u001b[0m",
      "\u001b[1;31mTypeError\u001b[0m                                 Traceback (most recent call last)",
      "\u001b[1;32m<ipython-input-63-f1d0b0a6bdfb>\u001b[0m in \u001b[0;36m<module>\u001b[1;34m\u001b[0m\n\u001b[0;32m     29\u001b[0m \u001b[0mmatches\u001b[0m \u001b[1;33m=\u001b[0m \u001b[0mbf\u001b[0m\u001b[1;33m.\u001b[0m\u001b[0mmatch\u001b[0m\u001b[1;33m(\u001b[0m\u001b[0mdes1_surf\u001b[0m\u001b[1;33m,\u001b[0m \u001b[0mdes2_surf\u001b[0m\u001b[1;33m)\u001b[0m\u001b[1;33m\u001b[0m\u001b[1;33m\u001b[0m\u001b[0m\n\u001b[0;32m     30\u001b[0m \u001b[0mmatches\u001b[0m \u001b[1;33m=\u001b[0m \u001b[0msorted\u001b[0m\u001b[1;33m(\u001b[0m\u001b[0mmatches\u001b[0m\u001b[1;33m,\u001b[0m \u001b[0mkey\u001b[0m \u001b[1;33m=\u001b[0m \u001b[1;32mlambda\u001b[0m \u001b[0mx\u001b[0m\u001b[1;33m:\u001b[0m\u001b[0mx\u001b[0m\u001b[1;33m.\u001b[0m\u001b[0mdistance\u001b[0m\u001b[1;33m)\u001b[0m\u001b[1;33m\u001b[0m\u001b[1;33m\u001b[0m\u001b[0m\n\u001b[1;32m---> 31\u001b[1;33m \u001b[0mmatching_result\u001b[0m \u001b[1;33m=\u001b[0m \u001b[0mcv2\u001b[0m\u001b[1;33m.\u001b[0m\u001b[0mdrawMatches\u001b[0m\u001b[1;33m(\u001b[0m\u001b[0mimg1\u001b[0m\u001b[1;33m,\u001b[0m \u001b[0mkp1_surf\u001b[0m\u001b[1;33m,\u001b[0m \u001b[0mimg2\u001b[0m\u001b[1;33m,\u001b[0m \u001b[0mkp2_surf\u001b[0m\u001b[1;33m,\u001b[0m \u001b[1;32mNone\u001b[0m\u001b[1;33m,\u001b[0m \u001b[0mflags\u001b[0m\u001b[1;33m=\u001b[0m\u001b[1;36m2\u001b[0m\u001b[1;33m)\u001b[0m\u001b[1;33m\u001b[0m\u001b[1;33m\u001b[0m\u001b[0m\n\u001b[0m\u001b[0;32m     32\u001b[0m \u001b[0mprint\u001b[0m\u001b[1;33m(\u001b[0m\u001b[1;34m\"Time=\"\u001b[0m\u001b[1;33m,\u001b[0m\u001b[1;33m(\u001b[0m\u001b[0mtime\u001b[0m\u001b[1;33m.\u001b[0m\u001b[0mtime\u001b[0m\u001b[1;33m(\u001b[0m\u001b[1;33m)\u001b[0m\u001b[1;33m-\u001b[0m\u001b[0mstart\u001b[0m\u001b[1;33m)\u001b[0m\u001b[1;33m*\u001b[0m\u001b[1;36m1000\u001b[0m\u001b[1;33m,\u001b[0m\u001b[1;34m\" ms\"\u001b[0m\u001b[1;33m)\u001b[0m \u001b[1;31m# Time in milli seconds\u001b[0m\u001b[1;33m\u001b[0m\u001b[1;33m\u001b[0m\u001b[0m\n\u001b[0;32m     33\u001b[0m \u001b[0mcv2\u001b[0m\u001b[1;33m.\u001b[0m\u001b[0mimshow\u001b[0m\u001b[1;33m(\u001b[0m\u001b[1;34m\"Img1\"\u001b[0m\u001b[1;33m,\u001b[0m \u001b[0mimg1\u001b[0m\u001b[1;33m)\u001b[0m\u001b[1;33m\u001b[0m\u001b[1;33m\u001b[0m\u001b[0m\n",
      "\u001b[1;31mTypeError\u001b[0m: drawMatches() missing required argument 'outImg' (pos 6)"
     ]
    }
   ],
   "source": [
    "import cv2\n",
    "import numpy as np\n",
    "import time\n",
    "start = time.time()\n",
    "cv2.namedWindow(\"Img1\", cv2.WINDOW_NORMAL)\n",
    "cv2.namedWindow(\"Img2\", cv2.WINDOW_NORMAL)\n",
    "cv2.namedWindow(\"Matching_result\", cv2.WINDOW_NORMAL) # Create window with freedom of dimensions\n",
    "# cv2.resizeWindow(\"output\", 400, 300)               # Resize window to specified dimensions\n",
    "\n",
    "img1 = cv2.imread(\"../images/left1.png\", cv2.IMREAD_GRAYSCALE)\n",
    "img2 = cv2.imread(\"../images/right1.png\", cv2.IMREAD_GRAYSCALE)\n",
    "# ORB Detector\n",
    "orb = cv2.ORB_create()\n",
    "kp1_orb, des1_orb = orb.detectAndCompute(img1[:,int(img1.shape[1]*0.60):], None)\n",
    "kp2_orb, des2_orb = orb.detectAndCompute(img2[:,:int(img2.shape[1]*0.40)], None)\n",
    "\n",
    "# surf detector\n",
    "surf = cv2.xfeatures2d.SURF_create()\n",
    "kp1_surf, des1_surf = surf.detectAndCompute(img1[:,int(img1.shape[1]*0.60):], None)  #(Height, Width)\n",
    "kp2_surf, des2_surf = surf.detectAndCompute(img2[:,:int(img2.shape[1]*0.40)], None)\n",
    "\n",
    "# sift detector\n",
    "sift = cv2.xfeatures2d.SIFT_create()\n",
    "kp1_sift, des1_sift = sift.detectAndCompute(img1, None)\n",
    "kp2_sift, des2_sift = sift.detectAndCompute(img2, None)\n",
    "\n",
    "# Brute Force Matching\n",
    "bf = cv2.BFMatcher(cv2.NORM_L2, crossCheck=True)\n",
    "matches = bf.match(des1_surf, des2_surf)\n",
    "matches = sorted(matches, key = lambda x:x.distance)\n",
    "matching_result = cv2.drawMatches(img1, kp1_surf, img2, kp2_surf, None, flags=2)\n",
    "print(\"Time=\",(time.time()-start)*1000,\" ms\") # Time in milli seconds\n",
    "cv2.imshow(\"Img1\", img1)\n",
    "cv2.imshow(\"Img2\", img2)\n",
    "cv2.imshow(\"Matching_result\", matching_result)\n",
    "cv2.waitKey(0)\n",
    "cv2.destroyAllWindows()\n"
   ]
  },
  {
   "cell_type": "code",
   "execution_count": 64,
   "metadata": {},
   "outputs": [
    {
     "name": "stdout",
     "output_type": "stream",
     "text": [
      "(2160, 4096) (2160, 4096)\n"
     ]
    }
   ],
   "source": [
    "print(img1.shape,img2.shape)\n",
    "cv2.destroyAllWindows()"
   ]
  },
  {
   "cell_type": "code",
   "execution_count": 46,
   "metadata": {},
   "outputs": [
    {
     "data": {
      "text/plain": [
       "(2160, 1024, 3)"
      ]
     },
     "execution_count": 46,
     "metadata": {},
     "output_type": "execute_result"
    }
   ],
   "source": [
    "(img1[:,int(img1.shape[1]*0.75):].shape)"
   ]
  },
  {
   "cell_type": "code",
   "execution_count": 55,
   "metadata": {},
   "outputs": [],
   "source": [
    "# cv2.namedWindow(\"Img1\", cv2.WINDOW_NORMAL)\n",
    "img2=cv2.imread(\"../images/right1.png\")\n",
    "img2 = img2[:,:int(img2.shape[1]*0.40)]\n",
    "img2 = cv2.resize(img2,(364,768))\n",
    "cv2.imshow(\"Img1\",img2)\n",
    "#cv2.imshow(\"Img1\",img1)\n",
    "if cv2.waitKey(0):\n",
    "    cv2.destroyAllWindows()\n"
   ]
  },
  {
   "cell_type": "code",
   "execution_count": 33,
   "metadata": {},
   "outputs": [
    {
     "data": {
      "text/plain": [
       "(2160, 4096, 3)"
      ]
     },
     "execution_count": 33,
     "metadata": {},
     "output_type": "execute_result"
    }
   ],
   "source": [
    "img1.shape"
   ]
  },
  {
   "cell_type": "code",
   "execution_count": 48,
   "metadata": {},
   "outputs": [
    {
     "data": {
      "text/plain": [
       "364.0888888888889"
      ]
     },
     "execution_count": 48,
     "metadata": {},
     "output_type": "execute_result"
    }
   ],
   "source": [
    "1024/2160*768"
   ]
  },
  {
   "cell_type": "code",
   "execution_count": null,
   "metadata": {},
   "outputs": [],
   "source": []
  }
 ],
 "metadata": {
  "kernelspec": {
   "display_name": "Python 3.7.5 64-bit ('base': conda)",
   "language": "python",
   "name": "python37564bitbaseconda8c87ca84306f4e5bbaef848a9f4697f3"
  },
  "language_info": {
   "codemirror_mode": {
    "name": "ipython",
    "version": 3
   },
   "file_extension": ".py",
   "mimetype": "text/x-python",
   "name": "python",
   "nbconvert_exporter": "python",
   "pygments_lexer": "ipython3",
   "version": "3.7.5"
  }
 },
 "nbformat": 4,
 "nbformat_minor": 2
}
