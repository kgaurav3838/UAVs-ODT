{
 "cells": [
  {
   "cell_type": "code",
   "execution_count": 37,
   "metadata": {},
   "outputs": [
    {
     "name": "stdout",
     "output_type": "stream",
     "text": [
      "Time= 5566.123247146606\n"
     ]
    }
   ],
   "source": [
    "import cv2\n",
    "import numpy as np\n",
    "import time\n",
    "start=time.time()\n",
    "cv2.namedWindow(\"output\", cv2.WINDOW_NORMAL)\n",
    "#img = cv2.imread(\"the_book_thief.jpg\", cv2.IMREAD_GRAYSCALE)\n",
    "img = cv2.imread(\"../images/right1.png\",0)\n",
    "sift = cv2.xfeatures2d.SIFT_create()\n",
    "surf = cv2.xfeatures2d.SURF_create()\n",
    "orb = cv2.ORB_create(nfeatures=1500)\n",
    "\n",
    "keypoints_sift, descriptors = sift.detectAndCompute(img[1000:2160,:], None)\n",
    "keypoints_surf, descriptors = surf.detectAndCompute(img[1000:2160,:], None)\n",
    "keypoints_orb, descriptors = orb.detectAndCompute(img[1000:2160,:], None)\n",
    "\n",
    "img = cv2.drawKeypoints(img, keypoints_surf, None)\n",
    "print(\"Time=\",(time.time()-start)*1000)\n",
    "cv2.imshow(\"output\", img)\n",
    "cv2.waitKey(0)\n",
    "cv2.destroyAllWindows()"
   ]
  },
  {
   "cell_type": "code",
   "execution_count": 36,
   "metadata": {},
   "outputs": [],
   "source": [
    "cv2.destroyAllWindows()"
   ]
  },
  {
   "cell_type": "code",
   "execution_count": 32,
   "metadata": {},
   "outputs": [
    {
     "data": {
      "text/plain": [
       "(2160, 4096)"
      ]
     },
     "execution_count": 32,
     "metadata": {},
     "output_type": "execute_result"
    }
   ],
   "source": [
    "img.shape"
   ]
  },
  {
   "cell_type": "code",
   "execution_count": 38,
   "metadata": {},
   "outputs": [
    {
     "data": {
      "text/plain": [
       "'E:\\\\OneDrive - IIT Kanpur\\\\IITK OneDrive\\\\ODAT\\\\UAVs\\\\Working_Directory\\\\panorama-stitching\\\\pysource'"
      ]
     },
     "execution_count": 38,
     "metadata": {},
     "output_type": "execute_result"
    }
   ],
   "source": [
    "pwd"
   ]
  },
  {
   "cell_type": "code",
   "execution_count": null,
   "metadata": {},
   "outputs": [],
   "source": []
  }
 ],
 "metadata": {
  "kernelspec": {
   "display_name": "Python 3.7.5 64-bit ('base': conda)",
   "language": "python",
   "name": "python37564bitbaseconda8c87ca84306f4e5bbaef848a9f4697f3"
  },
  "language_info": {
   "codemirror_mode": {
    "name": "ipython",
    "version": 3
   },
   "file_extension": ".py",
   "mimetype": "text/x-python",
   "name": "python",
   "nbconvert_exporter": "python",
   "pygments_lexer": "ipython3",
   "version": "3.7.5"
  }
 },
 "nbformat": 4,
 "nbformat_minor": 2
}
