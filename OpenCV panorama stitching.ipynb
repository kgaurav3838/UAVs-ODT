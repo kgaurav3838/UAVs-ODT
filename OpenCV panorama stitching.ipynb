{
 "cells": [
  {
   "cell_type": "code",
   "execution_count": 3,
   "metadata": {},
   "outputs": [
    {
     "ename": "IndentationError",
     "evalue": "expected an indented block (<ipython-input-3-3dd2d2811ad2>, line 6)",
     "output_type": "error",
     "traceback": [
      "\u001b[1;36m  File \u001b[1;32m\"<ipython-input-3-3dd2d2811ad2>\"\u001b[1;36m, line \u001b[1;32m6\u001b[0m\n\u001b[1;33m    def __init__(self):\u001b[0m\n\u001b[1;37m      ^\u001b[0m\n\u001b[1;31mIndentationError\u001b[0m\u001b[1;31m:\u001b[0m expected an indented block\n"
     ]
    }
   ],
   "source": [
    "# import the necessary packages\n",
    "import numpy as np\n",
    "import imutils\n",
    "import cv2\n",
    "class Stitcher:\n",
    "def __init__(self):\n",
    "# determine if we are using OpenCV v3.X\n",
    "self.isv3 = imutils.is_cv3(or_better=True)\n",
    "def stitch(self, images, ratio=0.75, reprojThresh=4.0,\n",
    "showMatches=False):\n",
    "# unpack the images, then detect keypoints and extract\n",
    "# local invariant descriptors from them\n",
    "\n",
    "imageA = cv2.imread(args[\"first\"])\n",
    "imageB = cv2.imread(args[\"second\"])\n",
    "imageA = imutils.resize(imageA, width=400)\n",
    "imageB = imutils.resize(imageB, width=400)\n",
    "\n",
    "(imageB, imageA) = images\n",
    "(kpsA, featuresA) = self.detectAndDescribe(imageA)\n",
    "(kpsB, featuresB) = self.detectAndDescribe(imageB)\n",
    "# match features between the two images\n",
    "M = self.matchKeypoints(kpsA, kpsB,\n",
    "featuresA, featuresB, ratio, reprojThresh)\n",
    "# if the match is None, then there aren't enough matched\n",
    "# keypoints to create a panorama\n",
    "if M is None:\n",
    "return None\n",
    "\n",
    "# otherwise, apply a perspective warp to stitch the images\n",
    "# together\n",
    "(matches, H, status) = M\n",
    "result = cv2.warpPerspective(imageA, H,\n",
    "(imageA.shape[1] + imageB.shape[1], imageA.shape[0]))\n",
    "result[0:imageB.shape[0], 0:imageB.shape[1]] = imageB\n",
    "# check to see if the keypoint matches should be visualized\n",
    "if showMatches:\n",
    "vis = self.drawMatches(imageA, imageB, kpsA, kpsB, matches,\n",
    "status)\n",
    "# return a tuple of the stitched image and the\n",
    "# visualization\n",
    "return (result, vis)\n",
    "# return the stitched image\n",
    "return result\n",
    "    \n",
    "def detectAndDescribe(self, image):\n",
    "# convert the image to grayscale\n",
    "gray = cv2.cvtColor(image, cv2.COLOR_BGR2GRAY)\n",
    "# check to see if we are using OpenCV 3.X\n",
    "if self.isv3:\n",
    "# detect and extract features from the image\n",
    "descriptor = cv2.xfeatures2d.SIFT_create()\n",
    "(kps, features) = descriptor.detectAndCompute(image, None)\n",
    "# otherwise, we are using OpenCV 2.4.X\n",
    "else:\n",
    "# detect keypoints in the image\n",
    "detector = cv2.FeatureDetector_create(\"SIFT\")\n",
    "kps = detector.detect(gray)\n",
    "# extract features from the image\n",
    "extractor = cv2.DescriptorExtractor_create(\"SIFT\")\n",
    "(kps, features) = extractor.compute(gray, kps)\n",
    "# convert the keypoints from KeyPoint objects to NumPy\n",
    "# arrays\n",
    "kps = np.float32([kp.pt for kp in kps])\n",
    "# return a tuple of keypoints and features\n",
    "return (kps, features)\n",
    "    \n",
    "def matchKeypoints(self, kpsA, kpsB, featuresA, featuresB,\n",
    "ratio, reprojThresh):\n",
    "# compute the raw matches and initialize the list of actual\n",
    "# matches\n",
    "matcher = cv2.DescriptorMatcher_create(\"BruteForce\")\n",
    "rawMatches = matcher.knnMatch(featuresA, featuresB, 2)\n",
    "matches = []\n",
    "# loop over the raw matches\n",
    "for m in rawMatches:\n",
    "# ensure the distance is within a certain ratio of each\n",
    "# other (i.e. Lowe's ratio test)\n",
    "if len(m) == 2 and m[0].distance < m[1].distance * ratio:\n",
    "matches.append((m[0].trainIdx, m[0].queryIdx))\n",
    "             \n",
    "# computing a homography requires at least 4 matches\n",
    "if len(matches) > 4:\n",
    "# construct the two sets of points\n",
    "ptsA = np.float32([kpsA[i] for (_, i) in matches])\n",
    "ptsB = np.float32([kpsB[i] for (i, _) in matches])\n",
    "# compute the homography between the two sets of points\n",
    "(H, status) = cv2.findHomography(ptsA, ptsB, cv2.RANSAC,\n",
    "reprojThresh)\n",
    "# return the matches along with the homograpy matrix\n",
    "# and status of each matched point\n",
    "return (matches, H, status)\n",
    "# otherwise, no homograpy could be computed\n",
    "return None\n",
    "  \n",
    "def drawMatches(self, imageA, imageB, kpsA, kpsB, matches, status):\n",
    "# initialize the output visualization image\n",
    "(hA, wA) = imageA.shape[:2]\n",
    "(hB, wB) = imageB.shape[:2]\n",
    "vis = np.zeros((max(hA, hB), wA + wB, 3), dtype=\"uint8\")\n",
    "vis[0:hA, 0:wA] = imageA\n",
    "vis[0:hB, wA:] = imageB\n",
    "# loop over the matches\n",
    "for ((trainIdx, queryIdx), s) in zip(matches, status):\n",
    "# only process the match if the keypoint was successfully\n",
    "# matched\n",
    "if s == 1:\n",
    "# draw the match\n",
    "ptA = (int(kpsA[queryIdx][0]), int(kpsA[queryIdx][1]))\n",
    "ptB = (int(kpsB[trainIdx][0]) + wA, int(kpsB[trainIdx][1]))\n",
    "cv2.line(vis, ptA, ptB, (0, 255, 0), 1)\n",
    "# return the visualization\n",
    "return vis\n",
    "\n"
   ]
  },
  {
   "cell_type": "code",
   "execution_count": 3,
   "metadata": {},
   "outputs": [
    {
     "ename": "IndentationError",
     "evalue": "expected an indented block (<ipython-input-3-f986e8358a5a>, line 5)",
     "output_type": "error",
     "traceback": [
      "\u001b[1;36m  File \u001b[1;32m\"<ipython-input-3-f986e8358a5a>\"\u001b[1;36m, line \u001b[1;32m5\u001b[0m\n\u001b[1;33m    (imageB, imageA) = images\u001b[0m\n\u001b[1;37m    ^\u001b[0m\n\u001b[1;31mIndentationError\u001b[0m\u001b[1;31m:\u001b[0m expected an indented block\n"
     ]
    }
   ],
   "source": []
  },
  {
   "cell_type": "code",
   "execution_count": 2,
   "metadata": {},
   "outputs": [
    {
     "data": {
      "text/plain": [
       "'E:\\\\OneDrive - IIT Kanpur\\\\IITK OneDrive\\\\ODAT\\\\UAVs\\\\UAVs-ODT'"
      ]
     },
     "execution_count": 2,
     "metadata": {},
     "output_type": "execute_result"
    }
   ],
   "source": [
    "pwd"
   ]
  },
  {
   "cell_type": "code",
   "execution_count": 4,
   "metadata": {},
   "outputs": [
    {
     "ename": "ModuleNotFoundError",
     "evalue": "No module named 'pyimagesearch'",
     "output_type": "error",
     "traceback": [
      "\u001b[1;31m---------------------------------------------------------------------------\u001b[0m",
      "\u001b[1;31mModuleNotFoundError\u001b[0m                       Traceback (most recent call last)",
      "\u001b[1;32m<ipython-input-4-f98b8632aa5d>\u001b[0m in \u001b[0;36m<module>\u001b[1;34m\u001b[0m\n\u001b[0;32m      1\u001b[0m \u001b[1;31m# import the necessary packages\u001b[0m\u001b[1;33m\u001b[0m\u001b[1;33m\u001b[0m\u001b[1;33m\u001b[0m\u001b[0m\n\u001b[1;32m----> 2\u001b[1;33m \u001b[1;32mfrom\u001b[0m \u001b[0mpyimagesearch\u001b[0m\u001b[1;33m.\u001b[0m\u001b[0mpanorama\u001b[0m \u001b[1;32mimport\u001b[0m \u001b[0mStitcher\u001b[0m\u001b[1;33m\u001b[0m\u001b[1;33m\u001b[0m\u001b[0m\n\u001b[0m\u001b[0;32m      3\u001b[0m \u001b[1;32mimport\u001b[0m \u001b[0margparse\u001b[0m\u001b[1;33m\u001b[0m\u001b[1;33m\u001b[0m\u001b[0m\n\u001b[0;32m      4\u001b[0m \u001b[1;32mimport\u001b[0m \u001b[0mimutils\u001b[0m\u001b[1;33m\u001b[0m\u001b[1;33m\u001b[0m\u001b[0m\n\u001b[0;32m      5\u001b[0m \u001b[1;32mimport\u001b[0m \u001b[0mcv2\u001b[0m\u001b[1;33m\u001b[0m\u001b[1;33m\u001b[0m\u001b[0m\n",
      "\u001b[1;31mModuleNotFoundError\u001b[0m: No module named 'pyimagesearch'"
     ]
    }
   ],
   "source": [
    "# import the necessary packages\n",
    "from pyimagesearch.panorama import Stitcher\n",
    "import argparse\n",
    "import imutils\n",
    "import cv2\n",
    "# construct the argument parse and parse the arguments\n",
    "ap = argparse.ArgumentParser()\n",
    "ap.add_argument(\"-f\", \"--first\", required=True,\n",
    "\thelp=\"path to the first image\")\n",
    "ap.add_argument(\"-s\", \"--second\", required=True,\n",
    "\thelp=\"path to the second image\")\n",
    "args = vars(ap.parse_args())\n",
    "# load the two images and resize them to have a width of 400 pixels\n",
    "# (for faster processing)\n",
    "imageA = cv2.imread(args[\"first\"])\n",
    "imageB = cv2.imread(args[\"second\"])\n",
    "imageA = imutils.resize(imageA, width=400)\n",
    "imageB = imutils.resize(imageB, width=400)\n",
    "# stitch the images together to create a panorama\n",
    "stitcher = Stitcher()\n",
    "(result, vis) = stitcher.stitch([imageA, imageB], showMatches=True)\n",
    "# show the images\n",
    "cv2.imshow(\"Image A\", imageA)\n",
    "cv2.imshow(\"Image B\", imageB)\n",
    "cv2.imshow(\"Keypoint Matches\", vis)\n",
    "cv2.imshow(\"Result\", result)\n",
    "cv2.waitKey(0)"
   ]
  },
  {
   "cell_type": "code",
   "execution_count": null,
   "metadata": {},
   "outputs": [],
   "source": []
  }
 ],
 "metadata": {
  "kernelspec": {
   "display_name": "Python 3.7.5 64-bit ('base': conda)",
   "language": "python",
   "name": "python37564bitbaseconda8c87ca84306f4e5bbaef848a9f4697f3"
  },
  "language_info": {
   "codemirror_mode": {
    "name": "ipython",
    "version": 3
   },
   "file_extension": ".py",
   "mimetype": "text/x-python",
   "name": "python",
   "nbconvert_exporter": "python",
   "pygments_lexer": "ipython3",
   "version": "3.7.5"
  }
 },
 "nbformat": 4,
 "nbformat_minor": 2
}
